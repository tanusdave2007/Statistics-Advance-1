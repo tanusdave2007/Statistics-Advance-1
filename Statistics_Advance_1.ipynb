{
  "nbformat": 4,
  "nbformat_minor": 0,
  "metadata": {
    "colab": {
      "provenance": []
    },
    "kernelspec": {
      "name": "python3",
      "display_name": "Python 3"
    },
    "language_info": {
      "name": "python"
    }
  },
  "cells": [
    {
      "cell_type": "markdown",
      "source": [
        "Question 1: What is a random variable in probability theory?\n",
        "\n",
        "Ans:- A random variable is a numerical variable in probability theory that represents the outcome of a random experiment. It assigns numerical values to each possible outcome of a probabilistic event.\n",
        "\n",
        "Discrete random variable → takes countable values (e.g., number of heads in 3 coin tosses).\n",
        "\n",
        "Continuous random variable → takes values from a continuous range (e.g., height, time, temperature).\n",
        "\n",
        "It serves as a bridge between probability theory and statistics, allowing us to model uncertainty mathematically."
      ],
      "metadata": {
        "id": "BBoVdJYkMB-c"
      }
    },
    {
      "cell_type": "markdown",
      "source": [
        "Question 2: What are the types of random variables?\n",
        "\n",
        "Ans:- Random variables are mainly of two types:\n",
        "\n",
        "Discrete Random Variable → Takes countable values (finite or infinite but countable). Example: Number of calls received in a day, dice roll outcomes.\n",
        "\n",
        "Continuous Random Variable → Takes uncountably infinite values within an interval. Example: Height, weight, or time taken to complete a task.\n",
        "\n",
        "Both types are used to model uncertainty depending on whether the data is countable or continuous."
      ],
      "metadata": {
        "id": "RoaAslMuMB6m"
      }
    },
    {
      "cell_type": "markdown",
      "source": [
        "Question 3: Explain the difference between discrete and continuous distributions.\n",
        "\n",
        "Ans:-\n",
        "\n",
        "Discrete Distributions → Describe probabilities of countable outcomes of a discrete random variable. Probabilities are assigned to each possible value, and the total probability equals 1. Example: Binomial distribution (number of heads in coin tosses).\n",
        "\n",
        "Continuous Distributions → Describe probabilities of outcomes over a continuous range. Instead of individual probabilities, they are represented by a probability density function (PDF), and the probability is found over intervals. Example: Normal distribution (heights, exam scores).\n",
        "\n",
        "In short, discrete = countable outcomes with probability mass functions (PMF), continuous = infinite possible values with density functions (PDF)."
      ],
      "metadata": {
        "id": "3AVuRXH4MB4j"
      }
    },
    {
      "cell_type": "markdown",
      "source": [
        "Question 4: What is a binomial distribution, and how is it used in probability?\n",
        "\n",
        "Ans:- A binomial distribution is a discrete probability distribution that models the number of successes in a fixed number of independent Bernoulli trials, where each trial has only two outcomes: success or failure.\n",
        "\n",
        "Defined by two parameters:\n",
        "\n",
        "n = number of trials\n",
        "p = probability of success in each trial\n",
        "\n",
        " Uses: It is widely applied in situations like predicting pass/fail outcomes, number of defective products in a batch, or the probability of a certain number of heads in coin tosses."
      ],
      "metadata": {
        "id": "8o6PVDXFMjwT"
      }
    },
    {
      "cell_type": "markdown",
      "source": [
        "Question 5: What is the standard normal distribution, and why is it important?\n",
        "\n",
        "Ans:-\n",
        "\n",
        "The standard normal distribution is a special case of the normal distribution with mean = 0 and standard deviation = 1. It is symmetric and bell-shaped, with probabilities defined by the standard normal curve.\n",
        "\n",
        "Importance:\n",
        "\n",
        "Any normal distribution can be converted into a standard normal distribution using z-scores.\n",
        "\n",
        "It simplifies probability calculations using standard normal tables (Z-tables).\n",
        "\n",
        "It is the foundation for many statistical methods like hypothesis testing, confidence intervals, and regression analysis."
      ],
      "metadata": {
        "id": "gAFi62XlMuPV"
      }
    },
    {
      "cell_type": "markdown",
      "source": [
        "Question 6: What is the Central Limit Theorem (CLT), and why is it critical in statistics?\n",
        "\n",
        "Ans:-\n",
        "\n",
        "The Central Limit Theorem (CLT) states that the sampling distribution of the sample mean (or sum) approaches a normal distribution as the sample size becomes large, regardless of the shape of the population distribution, provided the samples are independent and identically distributed.\n",
        "\n",
        "Why it’s critical:\n",
        "\n",
        "It justifies using the normal distribution in many statistical methods, even\n",
        "when the population is not normal.\n",
        "\n",
        "It enables hypothesis testing and confidence intervals based on sample data.\n",
        "\n",
        "It forms the backbone of inferential statistics, allowing conclusions about populations from samples."
      ],
      "metadata": {
        "id": "mXVgfjf6M8J6"
      }
    },
    {
      "cell_type": "markdown",
      "source": [
        "Question 7: What is the significance of confidence intervals in statistical analysis?\n",
        "\n",
        "Ans:- A confidence interval (CI) is a range of values, derived from sample data, that is likely to contain the true population parameter (like mean or proportion) with a certain level of confidence (e.g., 95%).\n",
        "\n",
        "Significance:\n",
        "\n",
        "Provides an estimate with uncertainty, rather than a single point value.\n",
        "Indicates the reliability of the sample estimate.\n",
        "Widely used in hypothesis testing, survey analysis, and decision-making to assess how precise and trustworthy results are"
      ],
      "metadata": {
        "id": "M77x09ZkNKYj"
      }
    },
    {
      "cell_type": "markdown",
      "source": [
        "Question 8: What is the concept of expected value in a probability distribution?\n",
        "\n",
        "Ans:- The expected value (EV) of a probability distribution is the long-run average outcome of a random variable if an experiment is repeated many times. It represents the \"center of gravity\" of the distribution."
      ],
      "metadata": {
        "id": "hKaN72T0NVkZ"
      }
    },
    {
      "cell_type": "markdown",
      "source": [
        "Question 9: Write a Python program to generate 1000 random numbers from a normal distribution with mean = 50 and standard deviation = 5. Compute its mean and standard deviation using NumPy, and draw a histogram to visualize the distribution."
      ],
      "metadata": {
        "id": "pmFYdUoXNbRv"
      }
    },
    {
      "cell_type": "code",
      "execution_count": 1,
      "metadata": {
        "colab": {
          "base_uri": "https://localhost:8080/",
          "height": 445
        },
        "id": "fLWW6I1nL-Fx",
        "outputId": "fcedc6a1-a282-4c41-ded5-c76d078baa7a"
      },
      "outputs": [
        {
          "output_type": "stream",
          "name": "stdout",
          "text": [
            "Mean: 49.83724410133917\n",
            "Standard Deviation: 5.145984650618216\n"
          ]
        },
        {
          "output_type": "display_data",
          "data": {
            "text/plain": [
              "<Figure size 600x400 with 1 Axes>"
            ],
            "image/png": "[encoded data removed]"
          },
          "metadata": {}
        }
      ],
      "source": [
        "import numpy as np\n",
        "import matplotlib.pyplot as plt\n",
        "\n",
        "data = np.random.normal(loc=50, scale=5, size=1000)\n",
        "\n",
        "mean_val = np.mean(data)\n",
        "std_val = np.std(data, ddof=1)\n",
        "\n",
        "print(\"Mean:\", mean_val)\n",
        "print(\"Standard Deviation:\", std_val)\n",
        "\n",
        "plt.figure(figsize=(6,4))\n",
        "plt.hist(data, bins=30, color=\"skyblue\", edgecolor=\"black\", density=True)\n",
        "plt.title(\"Histogram of Normally Distributed Data (mean=50, std=5)\")\n",
        "plt.xlabel(\"Value\")\n",
        "plt.ylabel(\"Density\")\n",
        "plt.axvline(mean_val, color=\"red\", linestyle=\"dashed\", linewidth=1.5, label=f\"Mean = {mean_val:.2f}\")\n",
        "plt.legend()\n",
        "plt.show()"
      ]
    },
    {
      "cell_type": "markdown",
      "source": [
        "Question 10: You are working as a data analyst for a retail company. The company has collected daily sales data for 2 years and wants you to identify the overall sales trend.\n",
        "\n",
        "daily_sales = [220, 245, 210, 265, 230, 250, 260, 275, 240, 255, 235, 260, 245, 250, 225, 270, 265, 255, 250, 260]\n",
        "\n",
        "● Explain how you would apply the Central Limit Theorem to estimate the average sales with a 95% confidence interval.\n",
        "\n",
        "● Write the Python code to compute the mean sales and its confidence interval."
      ],
      "metadata": {
        "id": "goGyivJcNnoI"
      }
    },
    {
      "cell_type": "code",
      "source": [
        "daily_sales = [220, 245, 210, 265, 230, 250, 260, 275, 240, 255,\n",
        "               235, 260, 245, 250, 225, 270, 265, 255, 250, 260]\n",
        "\n",
        "data = np.array(daily_sales)\n",
        "\n",
        "mean_sales = np.mean(data)\n",
        "std_sales = np.std(data, ddof=1)\n",
        "n = len(data)\n",
        "\n",
        "# 95% confidence interval using CLT\n",
        "z = 1.96\n",
        "margin_error = z * (std_sales / np.sqrt(n))\n",
        "ci_lower = mean_sales - margin_error\n",
        "ci_upper = mean_sales + margin_error\n",
        "\n",
        "print(\"Mean Sales:\", mean_sales)\n",
        "print(\"95% Confidence Interval:\", (ci_lower, ci_upper))"
      ],
      "metadata": {
        "colab": {
          "base_uri": "https://localhost:8080/"
        },
        "id": "TBlrHSJXNmlL",
        "outputId": "b12793db-3c7e-4896-f020-484c56b587e7"
      },
      "execution_count": 2,
      "outputs": [
        {
          "output_type": "stream",
          "name": "stdout",
          "text": [
            "Mean Sales: 248.25\n",
            "95% Confidence Interval: (np.float64(240.68312934041109), np.float64(255.81687065958891))\n"
          ]
        }
      ]
    },
    {
      "cell_type": "code",
      "source": [],
      "metadata": {
        "id": "_yX0UNqEOEkl"
      },
      "execution_count": null,
      "outputs": []
    }
  ]
}